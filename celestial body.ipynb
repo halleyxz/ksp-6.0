{
 "cells": [
  {
   "cell_type": "code",
   "execution_count": 23,
   "id": "0d00a661",
   "metadata": {},
   "outputs": [],
   "source": [
    "import numpy as np\n",
    "import pandas as pd\n",
    "import matplotlib.pyplot as plt\n"
   ]
  },
  {
   "cell_type": "code",
   "execution_count": 24,
   "id": "5e06a88e",
   "metadata": {},
   "outputs": [
    {
     "data": {
      "text/plain": [
       "array([['0.0', '-4.859484339567217e-10', '-1.1692779685605893e-07', ''],\n",
       "       ['8039.452870568531', '-1.4968229546190528e-09',\n",
       "        '-1.1854279809818732e-07', '-36933.83141414432'],\n",
       "       ['16078.905741137061', '-1.978992100484541e-09',\n",
       "        '-1.2103812866249347e-07', '-63734.21908524217'],\n",
       "       ...,\n",
       "       ['80370410.3470736', '-3.044477517174893e-07',\n",
       "        '-4.570268908040042e-06', '-71471.35877951766'],\n",
       "       ['80378449.79994416', '-3.0530346860782803e-07',\n",
       "        '-4.579490933215338e-06', '-97985.6653775294'],\n",
       "       ['80386489.25281474', '-3.0663188773813723e-07',\n",
       "        '-4.576866605233262e-06', '-124174.36844878683']], dtype='<U23')"
      ]
     },
     "execution_count": 24,
     "metadata": {},
     "output_type": "execute_result"
    }
   ],
   "source": [
    "import numpy as np\n",
    "import pandas as pd\n",
    "celestial_data = np.loadtxt('body_data.csv', dtype='str' , delimiter=',', skiprows=1)\n",
    "celestial_data\n",
    "\n",
    "    "
   ]
  },
  {
   "cell_type": "code",
   "execution_count": 48,
   "id": "e82d985a",
   "metadata": {},
   "outputs": [],
   "source": [
    "import numpy as np\n",
    "\n",
    "def convert_to_mas(data, origin_ra_deg, origin_dec_deg):\n",
    "    \"\"\"\n",
    "    Convert RA/Dec data to milli-arcseconds (mas) relative to a reference origin.\n",
    "    \n",
    "    Parameters:\n",
    "    - data: Nx3 numpy array, columns: [RA_deg, Dec_deg, time]\n",
    "    - origin_ra_deg: RA of the origin (degrees)\n",
    "    - origin_dec_deg: Dec of the origin (degrees)\n",
    "    \n",
    "    Returns:\n",
    "    - Nx3 numpy array: [delta_RA_mas, delta_Dec_mas, time]\n",
    "    \"\"\"\n",
    "    ra = data[:, 0]\n",
    "    dec = data[:, 1]\n",
    "    time = data[:, 2]\n",
    "\n",
    "    # Convert to relative coordinates\n",
    "    delta_ra = (ra - origin_ra_deg) * np.cos(np.radians(origin_dec_deg))  # Corrected for spherical projection\n",
    "    delta_dec = dec - origin_dec_deg\n",
    "\n",
    "    # Convert degrees to milli arcseconds (mas)\n",
    "    deg_to_mas = 3.6e6\n",
    "    delta_ra_mas = delta_ra * deg_to_mas\n",
    "    delta_dec_mas = delta_dec * deg_to_mas\n",
    "\n",
    "    return np.column_stack((delta_ra_mas, delta_dec_mas, time))\n"
   ]
  },
  {
   "cell_type": "code",
   "execution_count": 49,
   "id": "67576f37",
   "metadata": {},
   "outputs": [],
   "source": [
    "iconverted_data = convert_to_mas(data, origin_ra_deg=10.123, origin_dec_deg=41.456)\n",
    "\n"
   ]
  },
  {
   "cell_type": "code",
   "execution_count": 50,
   "id": "3ee5ec58",
   "metadata": {},
   "outputs": [],
   "source": [
    "import matplotlib.pyplot as plt\n",
    "\n",
    "def plot_mas_data(data_mas):\n",
    "    \"\"\"\n",
    "    Plot celestial object trajectory in milli arcseconds.\n",
    "    \n",
    "    Parameters:\n",
    "    - data_mas: Nx3 numpy array with columns: [delta_RA_mas, delta_Dec_mas, time]\n",
    "    \"\"\"\n",
    "    ra_mas = data_mas[:, 0]\n",
    "    dec_mas = data_mas[:, 1]\n",
    "\n",
    "    plt.figure(figsize=(8, 6))\n",
    "    plt.plot(ra_mas, dec_mas, marker='o', linestyle='-', markersize=3)\n",
    "    plt.gca().invert_xaxis()  # Astronomical convention: RA increases to the left\n",
    "    plt.title(\"Apparent Motion in Milli Arcseconds\")\n",
    "    plt.xlabel(\"Δ RA (mas)\")\n",
    "    plt.ylabel(\"Δ Dec (mas)\")\n",
    "    plt.grid(True)\n",
    "    plt.axis('equal')\n",
    "    plt.show()\n"
   ]
  },
  {
   "cell_type": "code",
   "execution_count": 52,
   "id": "c9b98669",
   "metadata": {},
   "outputs": [
    {
     "ename": "NameError",
     "evalue": "name 'origin_ra_deg' is not defined",
     "output_type": "error",
     "traceback": [
      "\u001b[1;31m---------------------------------------------------------------------------\u001b[0m",
      "\u001b[1;31mNameError\u001b[0m                                 Traceback (most recent call last)",
      "Cell \u001b[1;32mIn[52], line 1\u001b[0m\n\u001b[1;32m----> 1\u001b[0m converted_data \u001b[38;5;241m=\u001b[39m convert_to_mas(data, \u001b[43morigin_ra_deg\u001b[49m, origin_dec_deg)\n\u001b[0;32m      2\u001b[0m plot_mas_data(converted_data)\n",
      "\u001b[1;31mNameError\u001b[0m: name 'origin_ra_deg' is not defined"
     ]
    }
   ],
   "source": [
    "converted_data = convert_to_mas(data, origin_ra_deg, origin_dec_deg)\n",
    "plot_mas_data(converted_data)"
   ]
  },
  {
   "cell_type": "code",
   "execution_count": 53,
   "id": "89cec6ff",
   "metadata": {},
   "outputs": [],
   "source": [
    "import numpy as np\n",
    "\n",
    "def proper_motion(data):\n",
    "    \"\"\"\n",
    "    Estimate the proper motion of the black hole from the apparent motion data.\n",
    "    Assumes data is an Nx3 array: [RA_mas, Dec_mas, time_sec]\n",
    "    \n",
    "    Returns:\n",
    "    - Tuple (mu_ra, mu_dec): proper motion in mas/sec\n",
    "    \"\"\"\n",
    "    ra = data[:, 0]\n",
    "    dec = data[:, 1]\n",
    "    t = data[:, 2]\n",
    "\n",
    "    # Fit a straight line: ra = mu_ra * t + c, similarly for dec\n",
    "    A = np.vstack([t, np.ones_like(t)]).T\n",
    "    mu_ra, _ = np.linalg.lstsq(A, ra, rcond=None)[0]\n",
    "    mu_dec, _ = np.linalg.lstsq(A, dec, rcond=None)[0]\n",
    "\n",
    "    return (mu_ra, mu_dec)\n"
   ]
  },
  {
   "cell_type": "code",
   "execution_count": 54,
   "id": "3037ba43",
   "metadata": {},
   "outputs": [],
   "source": [
    "import numpy as np\n",
    "\n",
    "def remove_proper_motion(data, μ_δ, μ_α):\n",
    "    \"\"\"\n",
    "    Remove the proper motion of the black hole from the data.\n",
    "\n",
    "    Parameters:\n",
    "    - data: Nx3 numpy array [RA_mas, Dec_mas, time_sec]\n",
    "    - μ_δ: Proper motion in Dec (mas/sec)\n",
    "    - μ_α: Proper motion in RA (mas/sec)\n",
    "\n",
    "    Returns:\n",
    "    - Nx3 numpy array with proper motion removed\n",
    "    \"\"\"\n",
    "    ra = data[:, 0]\n",
    "    dec = data[:, 1]\n",
    "    t = data[:, 2]\n",
    "\n",
    "    # Compute motion offset at each time\n",
    "    delta_ra = μ_α * t\n",
    "    delta_dec = μ_δ * t\n",
    "\n",
    "    # Subtract proper motion\n",
    "    corrected_ra = ra - delta_ra\n",
    "    corrected_dec = dec - delta_dec\n",
    "\n",
    "    return np.column_stack((corrected_ra, corrected_dec, t))\n"
   ]
  },
  {
   "cell_type": "code",
   "execution_count": 55,
   "id": "3a63c462",
   "metadata": {},
   "outputs": [],
   "source": [
    "import matplotlib.pyplot as plt\n",
    "\n",
    "def plot_corrected_orbit(corrected_data):\n",
    "    \"\"\"\n",
    "    Plot the corrected celestial motion after removing proper motion.\n",
    "\n",
    "    Parameters:\n",
    "    - corrected_data: Nx3 numpy array [RA_mas, Dec_mas, time_sec]\n",
    "    \"\"\"\n",
    "    ra_mas = corrected_data[:, 0]\n",
    "    dec_mas = corrected_data[:, 1]\n",
    "\n",
    "    plt.figure(figsize=(8, 6))\n",
    "    plt.plot(ra_mas, dec_mas, marker='o', linestyle='-', markersize=3)\n",
    "    plt.gca().invert_xaxis()  # Astronomical convention\n",
    "    plt.title(\"Corrected Orbital Motion (Proper Motion Removed)\")\n",
    "    plt.xlabel(\"Δ RA (mas)\")\n",
    "    plt.ylabel(\"Δ Dec (mas)\")\n",
    "    plt.axis('equal')\n",
    "    plt.grid(True)\n",
    "    plt.show()\n"
   ]
  },
  {
   "cell_type": "code",
   "execution_count": 36,
   "id": "3331569b",
   "metadata": {},
   "outputs": [
    {
     "ename": "IndentationError",
     "evalue": "unindent does not match any outer indentation level (<tokenize>, line 5)",
     "output_type": "error",
     "traceback": [
      "\u001b[1;36m  File \u001b[1;32m<tokenize>:5\u001b[1;36m\u001b[0m\n\u001b[1;33m    coords = remove_proper_motion(data, μ_δ, μ_α, origin_ra_hours, origin_dec_deg)\u001b[0m\n\u001b[1;37m    ^\u001b[0m\n\u001b[1;31mIndentationError\u001b[0m\u001b[1;31m:\u001b[0m unindent does not match any outer indentation level\n"
     ]
    }
   ],
   "source": [
    "import numpy as np\n",
    "\n",
    "def inclination(data, origin_ra_hours=12.0, origin_dec_deg=45.0):\n",
    "      μ_α, μ_δ = proper_motion(data)\n",
    "    coords = remove_proper_motion(data, μ_δ, μ_α, origin_ra_hours, origin_dec_deg)\n",
    "      coords_centered = coords - np.mean(coords, axis=0)\n",
    "         cos_i = semi_minor / semi_major\n",
    "    inclination_rad = np.arccos(cos_i)\n",
    "    inclination_deg = np.degrees(inclination_rad)\n",
    "\n",
    "    return inclination_deg"
   ]
  },
  {
   "cell_type": "code",
   "execution_count": 41,
   "id": "ceadb869",
   "metadata": {},
   "outputs": [],
   "source": [
    "import numpy as np\n",
    "\n",
    "def rotate_orbit(data, inclination_rad):\n",
    "    \"\"\"\n",
    "    Rotate the 2D orbit data by the inclination angle to recover the true 3D planar orbit.\n",
    "    \n",
    "    Args:\n",
    "        data (ndarray): N×3 array where columns represent [time, x, y] positions (projected).\n",
    "        inclination_rad (float): inclination angle in radians.\n",
    "    \n",
    "    Returns:\n",
    "        ndarray: N×3 array representing [time, x', y', z'] in the true orbital plane.\n",
    "    \"\"\"\n",
    "    times = data[:, 0]\n",
    "    x = data[:, 1]\n",
    "    y = data[:, 2]\n",
    "\n",
    "    # y-axis is the projected one affected by inclination\n",
    "    # Assuming orbit lies in the x–z plane originally, y is the inclination-affected z\n",
    "\n",
    "    # Rotate around x-axis to undo inclination\n",
    "    z = y * np.sin(inclination_rad)\n",
    "    y_corrected = y * np.cos(inclination_rad)\n",
    "\n",
    "    rotated_data = np.column_stack((times, x, y_corrected, z))\n",
    "    return rotated_data\n"
   ]
  },
  {
   "cell_type": "code",
   "execution_count": 40,
   "id": "7f455483",
   "metadata": {},
   "outputs": [
    {
     "data": {
      "image/png": "[encoded data removed]",
      "text/plain": [
       "<Figure size 640x480 with 1 Axes>"
      ]
     },
     "metadata": {},
     "output_type": "display_data"
    }
   ],
   "source": [
    "import numpy as np\n",
    "import matplotlib.pyplot as plt\n",
    "\n",
    "# Sample synthetic orbit data: [time, x, y_projected]\n",
    "# Simulating a circular orbit projected by inclination\n",
    "t = np.linspace(0, 2 * np.pi, 100)\n",
    "x = np.cos(t)\n",
    "y_projected = np.sin(t) * np.cos(np.radians(60))  # projected with 60° inclination\n",
    "data = np.column_stack((t, x, y_projected))\n",
    "\n",
    "# Define inclination angle in radians\n",
    "inclination_rad = np.radians(60)\n",
    "\n",
    "# Rotate the orbit to recover 3D true motion\n",
    "def rotate_orbit(data, inclination_rad):\n",
    "    times = data[:, 0]\n",
    "    x = data[:, 1]\n",
    "    y = data[:, 2]\n",
    "\n",
    "    z = y * np.sin(inclination_rad)\n",
    "    y_corrected = y * np.cos(inclination_rad)\n",
    "\n",
    "    return np.column_stack((times, x, y_corrected, z))\n",
    "\n",
    "rotated_data = rotate_orbit(data, inclination_rad)\n",
    "\n",
    "# Plotting the corrected orbit\n",
    "fig = plt.figure()\n",
    "ax = fig.add_subplot(111, projection='3d')\n",
    "ax.plot(rotated_data[:, 1], rotated_data[:, 2], rotated_data[:, 3])\n",
    "ax.set_xlabel(\"X\")\n",
    "ax.set_ylabel(\"Y\")\n",
    "ax.set_zlabel(\"Z\")\n",
    "ax.set_title(\"Top-Down View of Corrected Orbit (Inclination Removed)\")\n",
    "\n",
    "plt.show()"
   ]
  },
  {
   "cell_type": "code",
   "execution_count": 43,
   "id": "774d9066",
   "metadata": {},
   "outputs": [],
   "source": [
    "import numpy as np\n",
    "\n",
    "def radius(data):\n",
    "    \"\"\"\n",
    "    Estimate the radius of a circular orbit from 2D positional data.\n",
    "    Assumes data is an N×2 or N×3 numpy array of (x, y) or (x, y, t).\n",
    "    \"\"\"\n",
    "    # Take only the x, y coordinates (in case there's time in column 2 or 3)\n",
    "    if data.shape[1] == 3:\n",
    "        coords = data[:, :2]\n",
    "    else:\n",
    "        coords = data\n",
    "\n",
    "    # Find the center of the orbit (mean position)\n",
    "    center = np.mean(coords, axis=0)\n",
    "\n",
    "    # Compute distances from the center\n",
    "    distances = np.linalg.norm(coords - center, axis=1)\n",
    "\n",
    "    # Average distance is taken as radius\n",
    "    return np.mean(distances)\n",
    "\n"
   ]
  },
  {
   "cell_type": "code",
   "execution_count": 44,
   "id": "695fd870",
   "metadata": {},
   "outputs": [],
   "source": [
    "import numpy as np\n",
    "from scipy.signal import find_peaks\n",
    "\n",
    "def time_period(data):\n",
    "    \"\"\"\n",
    "    Estimate the time period of the orbit using rotated orbital data.\n",
    "    Assumes data is an N×3 numpy array with columns: [x, y, t].\n",
    "    \"\"\"\n",
    "    coords = data[:, :2]\n",
    "    time = data[:, 2]\n",
    "\n",
    "    # Find angle from center for each point (assumes mean-centered orbit)\n",
    "    center = np.mean(coords, axis=0)\n",
    "    rel_coords = coords - center\n",
    "    angles = np.arctan2(rel_coords[:, 1], rel_coords[:, 0])\n",
    "\n",
    "    # Unwrap the angle to avoid discontinuities at ±π\n",
    "    unwrapped_angles = np.unwrap(angles)\n",
    "\n",
    "    # Use derivative of angle to find peaks (i.e., full revolutions)\n",
    "    # We'll detect peaks in angular position to spot complete cycles\n",
    "    peaks, _ = find_peaks(unwrapped_angles)\n",
    "\n",
    "    if len(peaks) < 2:\n",
    "        return None \n",
    "\n",
    "    # Time between first and second peaks (approx one full period)\n",
    "    period_estimates = np.diff(time[peaks])\n",
    "\n",
    "    return np.mean(period_estimates)\n"
   ]
  },
  {
   "cell_type": "code",
   "execution_count": 45,
   "id": "41d64cb2",
   "metadata": {},
   "outputs": [],
   "source": [
    "import numpy as np\n",
    "\n",
    "def M(radius, time_period):\n",
    "    \"\"\"\n",
    "    Calculate the mass of the parent object using Kepler's Third Law.\n",
    "    \n",
    "    Parameters:\n",
    "    - radius: Orbital radius in meters.\n",
    "    - time_period: Orbital period in seconds.\n",
    "    \n",
    "    Returns:\n",
    "    - Mass in kilograms (kg).\n",
    "    \"\"\"\n",
    "    G = 6.67430e-11  # gravitational constant in m^3 kg^-1 s^-2\n",
    "    return (4 * np.pi**2 * radius**3) / (G * time_period**2)"
   ]
  },
  {
   "cell_type": "code",
   "execution_count": 46,
   "id": "400e6fa4",
   "metadata": {},
   "outputs": [],
   "source": [
    "import numpy as np\n",
    "from scipy.signal import find_peaks\n",
    "\n",
    "def radius(data):\n",
    "    coords = data[:, :2]\n",
    "    center = np.mean(coords, axis=0)\n",
    "    distances = np.linalg.norm(coords - center, axis=1)\n",
    "    return np.mean(distances)\n",
    "\n",
    "def time_period(data):\n",
    "    coords = data[:, :2]\n",
    "    time = data[:, 2]\n",
    "    center = np.mean(coords, axis=0)\n",
    "    rel_coords = coords - center\n",
    "    angles = np.arctan2(rel_coords[:, 1], rel_coords[:, 0])\n",
    "    unwrapped = np.unwrap(angles)\n",
    "    signal = np.cos(unwrapped)\n",
    "    peaks, _ = find_peaks(signal)\n",
    "    if len(peaks) < 2:\n",
    "        return None\n",
    "    periods = np.diff(time[peaks])\n",
    "    return np.mean(periods)\n",
    "\n",
    "def M(radius, time_period):\n",
    "    G = 6.67430e-11  # m^3 kg^-1 s^-2\n",
    "    return (4 * np.pi**2 * radius**3) / (G * time_period**2)\n",
    "\n",
    "def report_mass(data):\n",
    "    r = radius(data)\n",
    "    T = time_period(data)\n",
    "    if T is None:\n",
    "        return \"Insufficient data to compute time period.\"\n",
    "    mass = M(r, T)\n",
    "    return f\"M = {mass:.3e} kg\"\n"
   ]
  },
  {
   "cell_type": "code",
   "execution_count": 47,
   "id": "4e720e48",
   "metadata": {},
   "outputs": [
    {
     "name": "stdout",
     "output_type": "stream",
     "text": [
      "M = 8.157e+12 kg\n"
     ]
    }
   ],
   "source": [
    "# Assuming `data` is your Nx3 array: [x, y, t]\n",
    "print(report_mass(data))\n"
   ]
  },
  {
   "cell_type": "code",
   "execution_count": null,
   "id": "87ec3ed2",
   "metadata": {},
   "outputs": [],
   "source": []
  }
 ],
 "metadata": {
  "kernelspec": {
   "display_name": "Python 3 (ipykernel)",
   "language": "python",
   "name": "python3"
  },
  "language_info": {
   "codemirror_mode": {
    "name": "ipython",
    "version": 3
   },
   "file_extension": ".py",
   "mimetype": "text/x-python",
   "name": "python",
   "nbconvert_exporter": "python",
   "pygments_lexer": "ipython3",
   "version": "3.10.9"
  }
 },
 "nbformat": 4,
 "nbformat_minor": 5
}
